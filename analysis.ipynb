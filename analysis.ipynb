{
    "cells": [
        {
            "cell_type": "markdown",
            "metadata": {},
            "source": "#Description"
        },
        {
            "cell_type": "code",
            "execution_count": 3,
            "metadata": {},
            "outputs": [
                {
                    "data": {
                        "text/html": "<div>\n<style scoped>\n    .dataframe tbody tr th:only-of-type {\n        vertical-align: middle;\n    }\n\n    .dataframe tbody tr th {\n        vertical-align: top;\n    }\n\n    .dataframe thead th {\n        text-align: right;\n    }\n</style>\n<table border=\"1\" class=\"dataframe\">\n  <thead>\n    <tr style=\"text-align: right;\">\n      <th></th>\n      <th>Rk</th>\n      <th>Player</th>\n      <th>Tm</th>\n      <th>FantPos</th>\n      <th>Age</th>\n      <th>G</th>\n      <th>GS</th>\n      <th>Cmp</th>\n      <th>Att</th>\n      <th>Yds</th>\n      <th>...</th>\n      <th>TD.3</th>\n      <th>2PM</th>\n      <th>2PP</th>\n      <th>FantPt</th>\n      <th>PPR</th>\n      <th>DKPt</th>\n      <th>FDPt</th>\n      <th>VBD</th>\n      <th>PosRank</th>\n      <th>OvRank</th>\n    </tr>\n  </thead>\n  <tbody>\n    <tr>\n      <th>0</th>\n      <td>1</td>\n      <td>Christian McCaffrey*\\McCaCh01</td>\n      <td>CAR</td>\n      <td>RB</td>\n      <td>23</td>\n      <td>16</td>\n      <td>16</td>\n      <td>0</td>\n      <td>2</td>\n      <td>0</td>\n      <td>...</td>\n      <td>19</td>\n      <td>1.0</td>\n      <td>NaN</td>\n      <td>355.0</td>\n      <td>471.2</td>\n      <td>477.2</td>\n      <td>413.2</td>\n      <td>215.0</td>\n      <td>1</td>\n      <td>1.0</td>\n    </tr>\n    <tr>\n      <th>1</th>\n      <td>2</td>\n      <td>Lamar Jackson*\\JackLa00</td>\n      <td>BAL</td>\n      <td>QB</td>\n      <td>22</td>\n      <td>15</td>\n      <td>15</td>\n      <td>265</td>\n      <td>401</td>\n      <td>3127</td>\n      <td>...</td>\n      <td>7</td>\n      <td>NaN</td>\n      <td>1.0</td>\n      <td>418.0</td>\n      <td>417.7</td>\n      <td>431.7</td>\n      <td>423.7</td>\n      <td>152.0</td>\n      <td>1</td>\n      <td>2.0</td>\n    </tr>\n    <tr>\n      <th>2</th>\n      <td>3</td>\n      <td>Derrick Henry*\\HenrDe00</td>\n      <td>TEN</td>\n      <td>RB</td>\n      <td>25</td>\n      <td>15</td>\n      <td>15</td>\n      <td>0</td>\n      <td>0</td>\n      <td>0</td>\n      <td>...</td>\n      <td>18</td>\n      <td>NaN</td>\n      <td>NaN</td>\n      <td>277.0</td>\n      <td>294.6</td>\n      <td>303.6</td>\n      <td>285.6</td>\n      <td>136.0</td>\n      <td>2</td>\n      <td>3.0</td>\n    </tr>\n    <tr>\n      <th>3</th>\n      <td>4</td>\n      <td>Aaron Jones\\JoneAa00</td>\n      <td>GNB</td>\n      <td>RB</td>\n      <td>25</td>\n      <td>16</td>\n      <td>16</td>\n      <td>0</td>\n      <td>0</td>\n      <td>0</td>\n      <td>...</td>\n      <td>19</td>\n      <td>NaN</td>\n      <td>NaN</td>\n      <td>266.0</td>\n      <td>314.8</td>\n      <td>322.8</td>\n      <td>290.3</td>\n      <td>125.0</td>\n      <td>3</td>\n      <td>4.0</td>\n    </tr>\n    <tr>\n      <th>4</th>\n      <td>5</td>\n      <td>Ezekiel Elliott*\\ElliEz00</td>\n      <td>DAL</td>\n      <td>RB</td>\n      <td>24</td>\n      <td>16</td>\n      <td>16</td>\n      <td>0</td>\n      <td>0</td>\n      <td>0</td>\n      <td>...</td>\n      <td>14</td>\n      <td>NaN</td>\n      <td>NaN</td>\n      <td>258.0</td>\n      <td>311.7</td>\n      <td>319.7</td>\n      <td>284.7</td>\n      <td>117.0</td>\n      <td>4</td>\n      <td>5.0</td>\n    </tr>\n  </tbody>\n</table>\n<p>5 rows \u00d7 33 columns</p>\n</div>",
                        "text/plain": "   Rk                         Player   Tm FantPos  Age   G  GS  Cmp  Att  \\\n0   1  Christian McCaffrey*\\McCaCh01  CAR      RB   23  16  16    0    2   \n1   2        Lamar Jackson*\\JackLa00  BAL      QB   22  15  15  265  401   \n2   3        Derrick Henry*\\HenrDe00  TEN      RB   25  15  15    0    0   \n3   4           Aaron Jones\\JoneAa00  GNB      RB   25  16  16    0    0   \n4   5      Ezekiel Elliott*\\ElliEz00  DAL      RB   24  16  16    0    0   \n\n    Yds  ...  TD.3  2PM  2PP  FantPt    PPR   DKPt   FDPt    VBD  PosRank  \\\n0     0  ...    19  1.0  NaN   355.0  471.2  477.2  413.2  215.0        1   \n1  3127  ...     7  NaN  1.0   418.0  417.7  431.7  423.7  152.0        1   \n2     0  ...    18  NaN  NaN   277.0  294.6  303.6  285.6  136.0        2   \n3     0  ...    19  NaN  NaN   266.0  314.8  322.8  290.3  125.0        3   \n4     0  ...    14  NaN  NaN   258.0  311.7  319.7  284.7  117.0        4   \n\n   OvRank  \n0     1.0  \n1     2.0  \n2     3.0  \n3     4.0  \n4     5.0  \n\n[5 rows x 33 columns]"
                    },
                    "execution_count": 3,
                    "metadata": {},
                    "output_type": "execute_result"
                }
            ],
            "source": "# The code was removed by Watson Studio for sharing."
        },
        {
            "cell_type": "code",
            "execution_count": null,
            "metadata": {},
            "outputs": [],
            "source": ""
        }
    ],
    "metadata": {
        "kernelspec": {
            "display_name": "Python 3.6",
            "language": "python",
            "name": "python3"
        },
        "language_info": {
            "codemirror_mode": {
                "name": "ipython",
                "version": 3
            },
            "file_extension": ".py",
            "mimetype": "text/x-python",
            "name": "python",
            "nbconvert_exporter": "python",
            "pygments_lexer": "ipython3",
            "version": "3.6.9"
        }
    },
    "nbformat": 4,
    "nbformat_minor": 1
}